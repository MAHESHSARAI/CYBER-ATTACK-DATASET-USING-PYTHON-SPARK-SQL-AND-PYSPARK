{
 "cells": [
  {
   "cell_type": "markdown",
   "metadata": {
    "id": "Lx9-Fre4FMda"
   },
   "source": [
    "# **Big Data Analytics [CN7031] CRWK 2021-22**\n",
    "# **Group ID: 74 **\n",
    "\n",
    "1.   Student 1: Rajkumar PALIWAL, u2193792\n",
    "2.   Student 2: Vinaya KANDYANUM, u2165225\n",
    "3.   Student 3: Shivani DYAPA, u2197219\n",
    "4.   Student 4: Mahesh SARAI, u2194348\n",
    "\n",
    "---\n",
    "\n",
    "\n",
    "If you want to add comments on your group work, please write it here for us:"
   ]
  },
  {
   "cell_type": "markdown",
   "metadata": {
    "id": "GdMZR-9QTwG3"
   },
   "source": [
    "\n",
    "# **Initiate and Configure Spark**\n",
    "\n",
    "---\n"
   ]
  },
  {
   "cell_type": "code",
   "execution_count": 1,
   "metadata": {
    "id": "2wbXV70D6xbl"
   },
   "outputs": [
    {
     "name": "stdout",
     "output_type": "stream",
     "text": [
      "Requirement already satisfied: pyspark in c:\\users\\mahesh\\anaconda3\\lib\\site-packages (3.2.0)\n",
      "Requirement already satisfied: py4j==0.10.9.2 in c:\\users\\mahesh\\anaconda3\\lib\\site-packages (from pyspark) (0.10.9.2)\n"
     ]
    }
   ],
   "source": [
    "########## ONLY in Colab ##########\n",
    "!pip3 install pyspark\n",
    "########## ONLY in Colab ##########"
   ]
  },
  {
   "cell_type": "markdown",
   "metadata": {
    "id": "6P2CZVl6TOQX"
   },
   "source": [
    "\n",
    "# **Load Data**\n",
    "\n",
    "---\n"
   ]
  },
  {
   "cell_type": "code",
   "execution_count": null,
   "metadata": {
    "id": "U-zSlLkNtCCw"
   },
   "outputs": [],
   "source": [
    "########## ONLY in Colab ##########\n",
    "# mount your Google Drive\n",
    "#from google.colab import drive\n",
    "#drive.mount('/content/drive')\n",
    "########## ONLY in Colab ##########"
   ]
  },
  {
   "cell_type": "code",
   "execution_count": null,
   "metadata": {
    "id": "2BbILXmUvaqg"
   },
   "outputs": [],
   "source": [
    "# Load Data from Colab:\n",
    "\n",
    "########## ONLY in Colab ##########\n",
    "#IDS_df = spark.read.option(\"header\", \"true\").csv(\"/content/drive/MyDrive/IDS2018/*.csv\")\n",
    "########## ONLY in Colab ##########"
   ]
  },
  {
   "cell_type": "code",
   "execution_count": 6,
   "metadata": {
    "id": "pZJ5wgm7xDaT"
   },
   "outputs": [],
   "source": [
    "# Load Data from Ubuntu VMware:\n",
    "\n",
    "########## ONLY in Ubuntu Machine ##########\n",
    "#IDS_df = spark.read.option(\"header\", \"true\").csv(\"IDS2018/*.csv\")\n",
    "########## ONLY in Ubuntu Machine ##########"
   ]
  },
  {
   "cell_type": "code",
   "execution_count": 8,
   "metadata": {
    "id": "ZGumwGzn9_7y"
   },
   "outputs": [
    {
     "ename": "NameError",
     "evalue": "name 'IDS_df' is not defined",
     "output_type": "error",
     "traceback": [
      "\u001b[1;31m---------------------------------------------------------------------------\u001b[0m",
      "\u001b[1;31mNameError\u001b[0m                                 Traceback (most recent call last)",
      "\u001b[1;32m<ipython-input-8-90cbac2658c5>\u001b[0m in \u001b[0;36m<module>\u001b[1;34m\u001b[0m\n\u001b[0;32m      1\u001b[0m \u001b[1;31m# Print DF to make sure it is working\u001b[0m\u001b[1;33m\u001b[0m\u001b[1;33m\u001b[0m\u001b[1;33m\u001b[0m\u001b[0m\n\u001b[1;32m----> 2\u001b[1;33m \u001b[0mIDS_df\u001b[0m\u001b[1;33m.\u001b[0m\u001b[0mshow\u001b[0m\u001b[1;33m(\u001b[0m\u001b[1;33m)\u001b[0m\u001b[1;33m\u001b[0m\u001b[1;33m\u001b[0m\u001b[0m\n\u001b[0m",
      "\u001b[1;31mNameError\u001b[0m: name 'IDS_df' is not defined"
     ]
    }
   ],
   "source": [
    "# Print DF to make sure it is working\n",
    "IDS_df.show()"
   ]
  },
  {
   "cell_type": "code",
   "execution_count": null,
   "metadata": {
    "id": "hc5GMMvdh5jD"
   },
   "outputs": [],
   "source": [
    "# The total number of attacks per label\n",
    "IDS_df.select('Label').groupBy('Label').count().orderBy('count', ascending=False).show()"
   ]
  },
  {
   "cell_type": "markdown",
   "metadata": {
    "id": "-RjT7_UHAqic"
   },
   "source": [
    "\n",
    "# **Task 1: Spark SQL [30 marks]**\n",
    "\n",
    "---\n",
    "\n"
   ]
  },
  {
   "cell_type": "code",
   "execution_count": null,
   "metadata": {
    "id": "7fCFTcOQBLD2"
   },
   "outputs": [],
   "source": [
    "# Rajkumar Paliwal, u2193792\n",
    "# Query 1 [Briefly explain]:\n",
    "\n"
   ]
  },
  {
   "cell_type": "code",
   "execution_count": null,
   "metadata": {
    "id": "px6ndUu-SaO1"
   },
   "outputs": [],
   "source": [
    "# Rajkumar Paliwal, u2193792\n",
    "# Query 2 [Briefly explain]:\n",
    "\n"
   ]
  },
  {
   "cell_type": "code",
   "execution_count": null,
   "metadata": {
    "id": "G4OQ9MvKBAUQ"
   },
   "outputs": [],
   "source": [
    "# Vinaya KANDYANUM, u2165225\n",
    "# Query 1 [Briefly explain]:\n",
    "\n"
   ]
  },
  {
   "cell_type": "code",
   "execution_count": null,
   "metadata": {
    "id": "c7bOzYDvSfMo"
   },
   "outputs": [],
   "source": [
    "# Vinaya KANDYANUM, u2165225\n",
    "# Query 2 [Briefly explain]:\n",
    "\n"
   ]
  },
  {
   "cell_type": "code",
   "execution_count": null,
   "metadata": {
    "id": "Vkh4cLhuBEly"
   },
   "outputs": [],
   "source": [
    "# Shivani DYAPA, u2197219\n",
    "# Query 1 [Briefly explain]:\n",
    "\n"
   ]
  },
  {
   "cell_type": "code",
   "execution_count": null,
   "metadata": {
    "id": "WQM_0VVmSjzK"
   },
   "outputs": [],
   "source": [
    "# Shivani DYAPA, u2197219\n",
    "# Query 2 [Briefly explain]:\n",
    "\n"
   ]
  },
  {
   "cell_type": "code",
   "execution_count": null,
   "metadata": {
    "id": "0Rm5BZNdBIbC"
   },
   "outputs": [],
   "source": [
    "# Mahesh SARAI, u2194348\n",
    "# Query 1 [Briefly explain]:\n",
    "\n"
   ]
  },
  {
   "cell_type": "code",
   "execution_count": null,
   "metadata": {
    "id": "uojM8-mJSnyg"
   },
   "outputs": [],
   "source": [
    "# Mahesh SARAI, u2194348\n",
    "# Query 2 [Briefly explain]:\n",
    "\n"
   ]
  },
  {
   "cell_type": "markdown",
   "metadata": {
    "id": "dcJhGbI2BKpx"
   },
   "source": [
    "\n",
    "# **Task 2 - Part1: PySpark [45 marks]**\n",
    "\n",
    "---\n"
   ]
  },
  {
   "cell_type": "code",
   "execution_count": null,
   "metadata": {
    "id": "V3eiN9geBQRf"
   },
   "outputs": [],
   "source": [
    "# Rajkumar Paliwal, u2193792\n",
    "# Analytical method 1:\n",
    "\n"
   ]
  },
  {
   "cell_type": "code",
   "execution_count": null,
   "metadata": {
    "id": "FQ_-hgdeiMle"
   },
   "outputs": [],
   "source": [
    "# Rajkumar Paliwal, u2193792\n",
    "# Analytical method 2:\n",
    "\n"
   ]
  },
  {
   "cell_type": "code",
   "execution_count": null,
   "metadata": {
    "id": "2JGQHXYliMK5"
   },
   "outputs": [],
   "source": [
    "# Rajkumar Paliwal, u2193792\n",
    "# Analytical method 3:\n",
    "\n"
   ]
  },
  {
   "cell_type": "code",
   "execution_count": null,
   "metadata": {
    "id": "A5mwMvIsBQlX"
   },
   "outputs": [],
   "source": [
    "# Vinaya KANDYANUM, u2165225\n",
    "# Analytical method 1:\n",
    "\n"
   ]
  },
  {
   "cell_type": "code",
   "execution_count": null,
   "metadata": {
    "id": "ElWikZNGBQti"
   },
   "outputs": [],
   "source": [
    "# Vinaya KANDYANUM, u2165225\n",
    "# Analytical method 2:\n",
    "\n"
   ]
  },
  {
   "cell_type": "code",
   "execution_count": null,
   "metadata": {
    "id": "dKsR4pkJBRaB"
   },
   "outputs": [],
   "source": [
    "# Vinaya KANDYANUM, u2165225\n",
    "# Analytical method 3:\n",
    "\n"
   ]
  },
  {
   "cell_type": "code",
   "execution_count": null,
   "metadata": {
    "id": "pltbpQ2iiVj0"
   },
   "outputs": [],
   "source": [
    "# Shivani DYAPA, u2197219\n",
    "# Analytical method 1:\n",
    "\n"
   ]
  },
  {
   "cell_type": "code",
   "execution_count": null,
   "metadata": {
    "id": "hBqDFxLHiVqT"
   },
   "outputs": [],
   "source": [
    "# Shivani DYAPA, u2197219\n",
    "# Analytical method 2:\n",
    "\n"
   ]
  },
  {
   "cell_type": "code",
   "execution_count": null,
   "metadata": {
    "id": "nefE3dztiWmR"
   },
   "outputs": [],
   "source": [
    "# Shivani DYAPA, u2197219\n",
    "# Analytical method 3:\n",
    "\n"
   ]
  },
  {
   "cell_type": "code",
   "execution_count": null,
   "metadata": {
    "id": "XsCBN6zKiXCa"
   },
   "outputs": [],
   "source": [
    "# Mahesh SARAI, u2194348\n",
    "# Analytical method 1:\n",
    "\n"
   ]
  },
  {
   "cell_type": "code",
   "execution_count": null,
   "metadata": {
    "id": "FM_3Ih8miXvO"
   },
   "outputs": [],
   "source": [
    "# Mahesh SARAI, u2194348\n",
    "# Analytical method 2:\n",
    "\n"
   ]
  },
  {
   "cell_type": "code",
   "execution_count": null,
   "metadata": {
    "id": "x9Jcm2IqiX-B"
   },
   "outputs": [],
   "source": [
    "# Mahesh SARAI, u2194348\n",
    "# Analytical method 3:\n",
    "\n"
   ]
  },
  {
   "cell_type": "markdown",
   "metadata": {
    "id": "wHft1Jht1Qxl"
   },
   "source": [
    "\n",
    "# **Task 2 - Part2: PySpark [15 marks]**\n",
    "\n",
    "---\n"
   ]
  },
  {
   "cell_type": "code",
   "execution_count": null,
   "metadata": {
    "id": "OcZfiIcq1Qxn"
   },
   "outputs": [],
   "source": [
    "# Rajkumar Paliwal, u2193792\n",
    "# Machine Learning Technique:\n",
    "# What to achieve:\n",
    "\n"
   ]
  },
  {
   "cell_type": "code",
   "execution_count": null,
   "metadata": {
    "id": "_-JJ57NH1Qxs"
   },
   "outputs": [],
   "source": [
    "# Vinaya KANDYANUM, u2165225\n",
    "# Machine Learning Technique:\n",
    "# What to achieve:\n",
    "\n"
   ]
  },
  {
   "cell_type": "code",
   "execution_count": null,
   "metadata": {
    "id": "gblHd4mv1Qxv"
   },
   "outputs": [],
   "source": [
    "# Shivani DYAPA, u2197219\n",
    "# Machine Learning Technique:\n",
    "# What to achieve:\n",
    "\n"
   ]
  },
  {
   "cell_type": "code",
   "execution_count": null,
   "metadata": {
    "id": "TbT_dhoY1Qxy"
   },
   "outputs": [],
   "source": [
    "# Mahesh SARAI, u2194348\n",
    "# Machine Learning Technique:\n",
    "# What to achieve:\n",
    "\n"
   ]
  },
  {
   "cell_type": "markdown",
   "metadata": {
    "id": "mIM6uLApSxi2"
   },
   "source": [
    "# **Convert ipynb to HTML for Turnitin submission [10 marks]**\n",
    "\n",
    "---\n",
    "\n"
   ]
  },
  {
   "cell_type": "code",
   "execution_count": null,
   "metadata": {
    "id": "ZrQu11N_DCfZ"
   },
   "outputs": [],
   "source": [
    "# install nbconvert\n",
    "!pip3 install nbconvert\n",
    "\n",
    "\n",
    "# convert ipynb to html\n",
    "# file name: \"Your_Group_ID_CN7031.ipynb\n",
    "!jupyter nbconvert --to html Group_74_CN7031.ipynb"
   ]
  }
 ],
 "metadata": {
  "colab": {
   "collapsed_sections": [
    "Lx9-Fre4FMda"
   ],
   "name": "Your_Group_ID_CN7031.ipynb",
   "provenance": []
  },
  "kernelspec": {
   "display_name": "Python 3",
   "language": "python",
   "name": "python3"
  },
  "language_info": {
   "codemirror_mode": {
    "name": "ipython",
    "version": 3
   },
   "file_extension": ".py",
   "mimetype": "text/x-python",
   "name": "python",
   "nbconvert_exporter": "python",
   "pygments_lexer": "ipython3",
   "version": "3.8.8"
  }
 },
 "nbformat": 4,
 "nbformat_minor": 1
}
